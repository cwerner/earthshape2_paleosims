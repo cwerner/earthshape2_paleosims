{
 "cells": [
  {
   "cell_type": "markdown",
   "metadata": {},
   "source": [
    "# EarthShape Phase 2: Overview of time slice simulations\n",
    "\n",
    "This notebook provides a quick overview of the simulated time slices and some examples for working with the netcdf files produced by the postprocessing tooling.\n",
    "\n",
    "Christian Werner  \n",
    "christian.werner@kit.edu  \n",
    "IMK-IFU, Karlsruhe Institute for Technology, Garmisch-Partenkirchen  \n",
    "2019-06-01  "
   ]
  },
  {
   "cell_type": "code",
   "execution_count": null,
   "metadata": {},
   "outputs": [],
   "source": []
  }
 ],
 "metadata": {
  "kernelspec": {
   "display_name": "Python (EarthShape)",
   "language": "python",
   "name": "es"
  },
  "language_info": {
   "codemirror_mode": {
    "name": "ipython",
    "version": 3
   },
   "file_extension": ".py",
   "mimetype": "text/x-python",
   "name": "python",
   "nbconvert_exporter": "python",
   "pygments_lexer": "ipython3",
   "version": "3.7.3"
  }
 },
 "nbformat": 4,
 "nbformat_minor": 2
}
