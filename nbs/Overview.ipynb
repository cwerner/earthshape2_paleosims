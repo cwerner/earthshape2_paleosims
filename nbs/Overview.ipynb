{
 "cells": [
  {
   "cell_type": "markdown",
   "metadata": {},
   "source": [
    "# EarthShape Phase 2: Overview of time-slice simulations\n",
    "\n",
    "This notebook provides a brief overview of the simulated timeslices and some examples for working with the netcdf files produced by the postprocessing tooling for [EarthShape](http://earthshape.net/) Phase 2.\n",
    "\n",
    "__________________\n",
    "<img src=\"images/logo_earthshape.png\" width=\"330\" align=\"right\">\n",
    "\n",
    "Christian Werner  \n",
    "christian.werner@kit.edu  \n",
    "IMK-IFU, Karlsruhe Institute for Technology, Garmisch-Partenkirchen  \n",
    "2019-06-01"
   ]
  },
  {
   "cell_type": "code",
   "execution_count": 1,
   "metadata": {},
   "outputs": [],
   "source": [
    "%matplotlib inline\n",
    "%load_ext autoreload\n",
    "%autoreload 2"
   ]
  },
  {
   "cell_type": "code",
   "execution_count": 22,
   "metadata": {},
   "outputs": [],
   "source": [
    "from pathlib import Path\n",
    "import sys\n",
    "import xarray as xr\n",
    "from IPython.display import Markdown\n",
    "\n",
    "def check_version():\n",
    "    def rtext(t): return '<span style=\"color: #ff0000\">'+t+'</span>'\n",
    "    if float('.'.join([str(x) for x in sys.version_info[0:2]] )) < 3.6:\n",
    "        display(Markdown(rtext('This notebook is written for Python 3.6 and up!')))\n",
    "        \n",
    "check_version()"
   ]
  },
  {
   "cell_type": "markdown",
   "metadata": {},
   "source": [
    "## Climate data\n",
    "\n",
    "Climate data was provided by Sebastian Mutz (Uni Tübingen). The time slices are:\n",
    "\n",
    "|Time-slice      |Code |Time    |CO$_2$|Status    |Comment                       |\n",
    "|:---------------|:----|:-------|:-----|:---------|:-----------------------------|  \n",
    "|Present Day     |e004 |.       |348   |NA        |used for bias correction only, p.d. (1978-1996)\te5 default\tp.d. mean (1957-2000)\te5 default (CO2: 348ppm, CH4:1.65ppm) |\n",
    "|Pre Industrial  |e007 |.       |280   |**Done**  |amip pre-industry\tPI co2(280ppm),ch4(760ppb),n2o(270ppb)echam def          |\n",
    "|Middle Holocene |e008 |.       |280   |NA        |e5 default\tAWI_MH_clim_sst\tco2(280ppm),ch4(650ppb),n2o(270ppb)              |\n",
    "|LGM             |e009 |.       |185   |**Done**  |reconstructed LGM, AWI_LGM_clim_sst, LGM co2(185ppm),ch4(350ppb),n2o(200ppb)  |\n",
    "|Pliocene        |e010 |.       |405   |**Done**  |reconsructed from PRISM datasets\treconstructed from PRISM dataset, Pliocene co2(405ppm), others using PI ch4(760ppb),n2o(270ppb)         |\n",
    "|Late Miocene    |e012 |11-7 ma |450   |NA        |Greenland ice removed; hudson bay filled with low elevation (5meter); Austria moved southeast wards for 5 grid boxes;Vegetation from Michel et al. 2011;south antartic ice 1/4 of the present; rest are the same as PI, knorr and Lohmann 2014, ICE Quarter CO2 450ppm\tCO2 (450ppm) others PI values       |\n",
    "|Middle Miocene  |e011 |14 ma   |278   |**Done**  |Greenland ice removed; hudson bay filled with low elevation (5meter); Austria moved southeast wards for 5 grid boxes;Vegetation from Michel et al. 2011; rest are the same as PI\tKnorr and Lohmann 2014, ICE Full CO2 278ppm run\tCO2(278ppm) others PI values                            |\n"
   ]
  },
  {
   "cell_type": "raw",
   "metadata": {},
   "source": []
  },
  {
   "cell_type": "code",
   "execution_count": null,
   "metadata": {},
   "outputs": [],
   "source": []
  },
  {
   "cell_type": "code",
   "execution_count": null,
   "metadata": {},
   "outputs": [],
   "source": []
  }
 ],
 "metadata": {
  "kernelspec": {
   "display_name": "Python (EarthShape)",
   "language": "python",
   "name": "es"
  },
  "language_info": {
   "codemirror_mode": {
    "name": "ipython",
    "version": 3
   },
   "file_extension": ".py",
   "mimetype": "text/x-python",
   "name": "python",
   "nbconvert_exporter": "python",
   "pygments_lexer": "ipython3",
   "version": "3.7.3"
  }
 },
 "nbformat": 4,
 "nbformat_minor": 2
}
