{
 "cells": [
  {
   "cell_type": "markdown",
   "metadata": {},
   "source": [
    "# EarthShape Phase 2: Overview of time slice simulations\n",
    "\n",
    "This notebook provides a quick overview of the simulated time slices and some examples for working with the netcdf files produced by the postprocessing tooling for [EarthShape](http://earthshape.net/) Phase 2.\n",
    "\n",
    "<img src=\"images/logo_earthshape.png\" width=330 align=\"right\">\n",
    "\n",
    "__________________\n",
    "Christian Werner  \n",
    "christian.werner@kit.edu  \n",
    "IMK-IFU, Karlsruhe Institute for Technology, Garmisch-Partenkirchen  \n",
    "2019-06-01  "
   ]
  },
  {
   "cell_type": "code",
   "execution_count": 1,
   "metadata": {},
   "outputs": [],
   "source": [
    "%matplotlib inline\n",
    "%load_ext autoreload\n",
    "%autoreload 2"
   ]
  },
  {
   "cell_type": "code",
   "execution_count": null,
   "metadata": {},
   "outputs": [],
   "source": []
  }
 ],
 "metadata": {
  "kernelspec": {
   "display_name": "Python (EarthShape)",
   "language": "python",
   "name": "es"
  },
  "language_info": {
   "codemirror_mode": {
    "name": "ipython",
    "version": 3
   },
   "file_extension": ".py",
   "mimetype": "text/x-python",
   "name": "python",
   "nbconvert_exporter": "python",
   "pygments_lexer": "ipython3",
   "version": "3.7.3"
  }
 },
 "nbformat": 4,
 "nbformat_minor": 2
}
